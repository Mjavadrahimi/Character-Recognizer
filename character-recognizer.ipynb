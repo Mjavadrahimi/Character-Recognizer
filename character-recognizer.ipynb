{
 "cells": [
  {
   "cell_type": "code",
   "execution_count": 1,
   "id": "72aab384-3275-4f71-bdbe-4bc3bd68e5bc",
   "metadata": {
    "ExecuteTime": {
     "end_time": "2024-04-01T18:47:06.596696200Z",
     "start_time": "2024-04-01T18:47:06.593490400Z"
    }
   },
   "outputs": [],
   "source": [
    "# Character recognizer (Capitals) A to Z"
   ]
  },
  {
   "cell_type": "code",
   "execution_count": 2,
   "id": "f4069637-df00-4598-a88f-ffe660d43888",
   "metadata": {
    "ExecuteTime": {
     "end_time": "2024-04-01T18:47:09.921704800Z",
     "start_time": "2024-04-01T18:47:06.601681800Z"
    }
   },
   "outputs": [],
   "source": [
    "import numpy as np\n",
    "import pandas as pd\n",
    "import math\n",
    "import torch\n",
    "import torch.nn as nn\n",
    "import torch.cuda\n",
    "import time\n",
    "from torch.utils.data import Dataset, DataLoader\n",
    "from matplotlib import pyplot as plt\n",
    "from sklearn.metrics import confusion_matrix\n",
    "from sklearn.model_selection import train_test_split\n",
    "from sklearn.preprocessing import MinMaxScaler\n",
    "from models.character_recognize import Model"
   ]
  },
  {
   "cell_type": "code",
   "execution_count": 3,
   "id": "df2c4a5b-6e52-437a-a05c-ca15eb7d30f3",
   "metadata": {
    "ExecuteTime": {
     "end_time": "2024-04-01T18:47:23.811974900Z",
     "start_time": "2024-04-01T18:47:09.923718400Z"
    }
   },
   "outputs": [],
   "source": [
    "# data source : https://www.kaggle.com/datasets/sachinpatel21/az-handwritten-alphabets-in-csv-format?rvi=1\n",
    "PATH = 'data/A_Z Handwritten Data.csv'\n",
    "df = pd.read_csv(PATH).astype('float32')"
   ]
  },
  {
   "cell_type": "code",
   "execution_count": 4,
   "id": "ecf1fb4b-fc4d-4ac8-89a0-4f2c3d9b7db3",
   "metadata": {
    "ExecuteTime": {
     "end_time": "2024-04-01T18:47:23.844740400Z",
     "start_time": "2024-04-01T18:47:23.813969700Z"
    }
   },
   "outputs": [
    {
     "name": "stdout",
     "output_type": "stream",
     "text": [
      "<class 'pandas.core.frame.DataFrame'>\n",
      "RangeIndex: 372450 entries, 0 to 372449\n",
      "Columns: 785 entries, 0 to 0.648\n",
      "dtypes: float32(785)\n",
      "memory usage: 1.1 GB\n"
     ]
    }
   ],
   "source": [
    "df.info()"
   ]
  },
  {
   "cell_type": "code",
   "execution_count": 5,
   "id": "9b9bba1b-7bf6-4b99-b9a7-6d444e756d6c",
   "metadata": {
    "ExecuteTime": {
     "end_time": "2024-04-01T18:47:23.846734Z",
     "start_time": "2024-04-01T18:47:23.840879600Z"
    }
   },
   "outputs": [
    {
     "data": {
      "text/plain": "{0: 'A',\n 1: 'B',\n 2: 'C',\n 3: 'D',\n 4: 'E',\n 5: 'F',\n 6: 'G',\n 7: 'H',\n 8: 'I',\n 9: 'J',\n 10: 'K',\n 11: 'L',\n 12: 'M',\n 13: 'N',\n 14: 'O',\n 15: 'P',\n 16: 'Q',\n 17: 'R',\n 18: 'S',\n 19: 'T',\n 20: 'U',\n 21: 'V',\n 22: 'W',\n 23: 'X',\n 24: 'Y',\n 25: 'Z'}"
     },
     "execution_count": 5,
     "metadata": {},
     "output_type": "execute_result"
    }
   ],
   "source": [
    "alphabet_map = {i: chr(ord('A') + i) for i in range(26)}\n",
    "alphabet_map"
   ]
  },
  {
   "cell_type": "code",
   "execution_count": 6,
   "id": "3370457d-88e8-4c40-8f2d-2736586638a1",
   "metadata": {
    "ExecuteTime": {
     "end_time": "2024-04-01T18:47:23.885474800Z",
     "start_time": "2024-04-01T18:47:23.872664400Z"
    }
   },
   "outputs": [
    {
     "data": {
      "text/plain": "device(type='cuda')"
     },
     "execution_count": 6,
     "metadata": {},
     "output_type": "execute_result"
    }
   ],
   "source": [
    "device = torch.device(\"cuda\" if torch.cuda.is_available() else \"cpu\")\n",
    "device"
   ]
  },
  {
   "cell_type": "code",
   "execution_count": 7,
   "id": "fd77aa9c-cb37-4f3a-b273-6c867fba1402",
   "metadata": {
    "ExecuteTime": {
     "end_time": "2024-04-01T18:47:23.885474800Z",
     "start_time": "2024-04-01T18:47:23.877225600Z"
    }
   },
   "outputs": [
    {
     "data": {
      "text/plain": "(372450, 784)"
     },
     "execution_count": 7,
     "metadata": {},
     "output_type": "execute_result"
    }
   ],
   "source": [
    "X, y = df.iloc[:, 1:], df.iloc[:, 0]\n",
    "X = X.to_numpy()\n",
    "y = y.to_numpy()\n",
    "X.shape"
   ]
  },
  {
   "cell_type": "code",
   "execution_count": 8,
   "id": "bcee4dcf-c5dd-492a-8714-248cdae6da15",
   "metadata": {
    "ExecuteTime": {
     "end_time": "2024-04-01T18:47:28.294445100Z",
     "start_time": "2024-04-01T18:47:23.882483400Z"
    }
   },
   "outputs": [],
   "source": [
    "X_train, X_test, y_train, y_test = train_test_split(X, y, train_size=0.9, stratify=y)\n",
    "\n",
    "# scale data\n",
    "min_max_scaler = MinMaxScaler()\n",
    "min_max_scaler.fit(X_train)\n",
    "\n",
    "X_train = min_max_scaler.transform(X_train)\n",
    "X_test = min_max_scaler.transform(X_test)"
   ]
  },
  {
   "cell_type": "code",
   "execution_count": 9,
   "id": "1a7ca378-061e-4db9-9341-6d50e8837d44",
   "metadata": {
    "ExecuteTime": {
     "end_time": "2024-04-01T18:47:28.377125100Z",
     "start_time": "2024-04-01T18:47:28.295442200Z"
    }
   },
   "outputs": [],
   "source": [
    "del df, X, y"
   ]
  },
  {
   "cell_type": "code",
   "execution_count": 10,
   "id": "3c80f9b9-b04d-491f-b11a-fc64b2f6ee1c",
   "metadata": {
    "ExecuteTime": {
     "end_time": "2024-04-01T18:47:28.381215600Z",
     "start_time": "2024-04-01T18:47:28.379119400Z"
    }
   },
   "outputs": [
    {
     "name": "stdout",
     "output_type": "stream",
     "text": [
      "(335205, 784) (37245, 784) (335205,) (37245,)\n"
     ]
    }
   ],
   "source": [
    "print(X_train.shape, X_test.shape, y_train.shape, y_test.shape)"
   ]
  },
  {
   "cell_type": "code",
   "execution_count": 11,
   "id": "29e4f2a8-e870-4cf1-8b95-63b94859b389",
   "metadata": {
    "ExecuteTime": {
     "end_time": "2024-04-01T18:47:28.386009900Z",
     "start_time": "2024-04-01T18:47:28.382212400Z"
    }
   },
   "outputs": [
    {
     "data": {
      "text/plain": "numpy.ndarray"
     },
     "execution_count": 11,
     "metadata": {},
     "output_type": "execute_result"
    }
   ],
   "source": [
    "type(y_train)"
   ]
  },
  {
   "cell_type": "code",
   "execution_count": 12,
   "id": "f1674402-ccfc-4ac8-9c48-13e2ff8633ab",
   "metadata": {
    "ExecuteTime": {
     "end_time": "2024-04-01T18:47:28.613284500Z",
     "start_time": "2024-04-01T18:47:28.388004400Z"
    }
   },
   "outputs": [
    {
     "data": {
      "text/plain": "<Figure size 1000x1000 with 1 Axes>",
      "image/png": "[encoded data removed]"
     },
     "metadata": {},
     "output_type": "display_data"
    }
   ],
   "source": [
    "labels = list(alphabet_map.values())\n",
    "np.count_nonzero(y_train == 9)\n",
    "train_size, test_size = [], []\n",
    "[(train_size.append((np.count_nonzero(y_train == i))), test_size.append((np.count_nonzero(y_test == i)))) for i in\n",
    " alphabet_map]\n",
    "\n",
    "plt.figure(figsize=(10, 10))\n",
    "plt.barh(y=labels, width=train_size, color=\"blue\", height=0.3)\n",
    "plt.barh(y=labels, width=test_size, left=train_size, color=\"red\", height=0.3)\n",
    "plt.legend(['train', 'test'], loc='upper right')\n",
    "plt.show()"
   ]
  },
  {
   "cell_type": "code",
   "execution_count": 13,
   "id": "89e8a9f9-f2fd-4a14-bc64-d16f9c85234d",
   "metadata": {
    "ExecuteTime": {
     "end_time": "2024-04-01T18:47:28.621765900Z",
     "start_time": "2024-04-01T18:47:28.611764400Z"
    }
   },
   "outputs": [
    {
     "data": {
      "text/plain": "[('A', 12482, 1387),\n ('B', 7801, 867),\n ('C', 21068, 2341),\n ('D', 9121, 1013),\n ('E', 10296, 1144),\n ('F', 1047, 116),\n ('G', 5186, 576),\n ('H', 6496, 722),\n ('I', 1008, 112),\n ('J', 7644, 849),\n ('K', 5043, 560),\n ('L', 10427, 1159),\n ('M', 11102, 1234),\n ('N', 17109, 1901),\n ('O', 52042, 5783),\n ('P', 17407, 1934),\n ('Q', 5231, 581),\n ('R', 10409, 1157),\n ('S', 43577, 4842),\n ('T', 20246, 2249),\n ('U', 26107, 2901),\n ('V', 3764, 418),\n ('W', 9706, 1078),\n ('X', 5645, 627),\n ('Y', 9773, 1086),\n ('Z', 5468, 608)]"
     },
     "execution_count": 13,
     "metadata": {},
     "output_type": "execute_result"
    }
   ],
   "source": [
    "[(alphabet_map[i], np.count_nonzero(y_train == i), np.count_nonzero(y_test == i)) for i in alphabet_map]"
   ]
  },
  {
   "cell_type": "code",
   "execution_count": 14,
   "id": "645c14fa-7c23-49f5-aa75-7f2cf7436d54",
   "metadata": {
    "ExecuteTime": {
     "end_time": "2024-04-01T18:47:28.850514200Z",
     "start_time": "2024-04-01T18:47:28.620767300Z"
    }
   },
   "outputs": [
    {
     "data": {
      "text/plain": "<Figure size 640x480 with 9 Axes>",
      "image/png": "[encoded data removed]"
     },
     "metadata": {},
     "output_type": "display_data"
    }
   ],
   "source": [
    "def show_img(X: np.ndarray, y: np.ndarray, pred: np.ndarray):\n",
    "    X = X.reshape(-1, 28, 28)\n",
    "    y = y.reshape(-1, 1)\n",
    "    pred = pred.reshape(-1, 1)\n",
    "    rows = columns = math.ceil(X.shape[0] ** 0.5)\n",
    "    fig, axs = plt.subplots(rows, columns)\n",
    "    for i in range(X.shape[0]):\n",
    "        plt.subplot(rows, columns, i + 1)\n",
    "        plt.axis('off')\n",
    "        plt.imshow(X[i], cmap='grey')\n",
    "        plt.title(f'{alphabet_map[y[i].item()]} -> {alphabet_map[pred[i].item()]}',\n",
    "                  color=('red' if y[i].item() != pred[i].item() else 'green'))\n",
    "    plt.show()\n",
    "\n",
    "\n",
    "sample_index = 200000\n",
    "sample_size = 9\n",
    "show_img(X_train[sample_index:sample_index + sample_size], y_train[sample_index:sample_index + sample_size],\n",
    "         y_train[sample_index:sample_index + sample_size])"
   ]
  },
  {
   "cell_type": "code",
   "execution_count": 15,
   "id": "43f5ca9e-a000-47b8-a5db-bfc5da2b2e56",
   "metadata": {
    "ExecuteTime": {
     "end_time": "2024-04-01T18:47:28.854504Z",
     "start_time": "2024-04-01T18:47:28.852509500Z"
    }
   },
   "outputs": [],
   "source": [
    "class CharacterDataset(Dataset):\n",
    "    def __init__(self, X: np.ndarray, y: np.ndarray, device=None):\n",
    "        if not device:\n",
    "            device = torch.device(\"cuda\" if torch.cuda.is_available() else \"cpu\")\n",
    "        self.X = torch.Tensor(X).type(torch.float).to(device)\n",
    "        self.y = torch.Tensor(y).type(torch.uint8).to(device)\n",
    "        self.length = X.shape[0]\n",
    "\n",
    "    def __getitem__(self, index):\n",
    "        return self.X[index], self.y[index]\n",
    "\n",
    "    def __len__(self):\n",
    "        return self.length"
   ]
  },
  {
   "cell_type": "code",
   "execution_count": 16,
   "id": "913f3f36-90c6-4a76-9170-85f7b5d721dd",
   "metadata": {
    "ExecuteTime": {
     "end_time": "2024-04-01T18:47:30.840258900Z",
     "start_time": "2024-04-01T18:47:28.856498500Z"
    }
   },
   "outputs": [],
   "source": [
    "train_dataset = CharacterDataset(X_train, y_train)\n",
    "train_loader = DataLoader(train_dataset, shuffle=True, batch_size=10000)\n",
    "\n",
    "test_dataset = CharacterDataset(X_test, y_test)\n",
    "test_loader = DataLoader(test_dataset, batch_size=10000)\n",
    "\n",
    "del X_train, X_test, y_train, y_test"
   ]
  },
  {
   "cell_type": "code",
   "execution_count": 18,
   "id": "da97174d-086d-4102-b351-b3101665d9ed",
   "metadata": {
    "ExecuteTime": {
     "end_time": "2024-04-01T18:50:58.973117500Z",
     "start_time": "2024-04-01T18:48:04.408637200Z"
    }
   },
   "outputs": [
    {
     "name": "stdout",
     "output_type": "stream",
     "text": [
      "epoch = 0/50\n",
      "loss = 3.046\n",
      "accuracy = 9.827\n",
      "epoch = 5/50\n",
      "loss = 2.562\n",
      "accuracy = 71.722\n",
      "epoch = 10/50\n",
      "loss = 2.448\n",
      "accuracy = 87.392\n",
      "epoch = 15/50\n",
      "loss = 2.397\n",
      "accuracy = 92.606\n",
      "epoch = 20/50\n",
      "loss = 2.387\n",
      "accuracy = 94.225\n",
      "epoch = 25/50\n",
      "loss = 2.377\n",
      "accuracy = 94.874\n",
      "epoch = 30/50\n",
      "loss = 2.373\n",
      "accuracy = 95.411\n",
      "epoch = 35/50\n",
      "loss = 2.368\n",
      "accuracy = 95.704\n",
      "epoch = 40/50\n",
      "loss = 2.367\n",
      "accuracy = 95.881\n",
      "epoch = 45/50\n",
      "loss = 2.369\n",
      "accuracy = 96.056\n",
      "total 174.556 seconds on cuda.\n"
     ]
    }
   ],
   "source": [
    "epochs = 50\n",
    "learning_rate = 0.001\n",
    "batch_size = 10000\n",
    "model = Model(4 * 4 * 16, 120, 80).to(device)\n",
    "\n",
    "criterion = nn.CrossEntropyLoss()\n",
    "optimizer = torch.optim.Adam(model.parameters(), lr=learning_rate)\n",
    "start_time = time.time()\n",
    "for i in range(epochs):\n",
    "    for j, (X_batch, y_batch) in enumerate(train_loader):\n",
    "        pred = model(X_batch, train=True)\n",
    "        loss = criterion(pred, y_batch)\n",
    "        optimizer.zero_grad()\n",
    "        loss.backward()\n",
    "        optimizer.step()\n",
    "\n",
    "    if (i % 5 == 0):\n",
    "        print(f'epoch = {i}/{epochs}')\n",
    "        with torch.no_grad():\n",
    "            correct = 0\n",
    "            for j, (X_batch, y_batch) in enumerate(test_loader):\n",
    "                pred_test = model(X_batch)\n",
    "                pred_test = torch.argmax(pred_test, dim=1)\n",
    "                correct += (pred_test == y_batch).sum().item()\n",
    "\n",
    "            acc = 100 * (correct / len(test_dataset))\n",
    "            print(f'loss = {loss.item():.3f}')\n",
    "            print(f'accuracy = {acc:.3f}', end=2 * '\\n')\n",
    "\n",
    "end_time = time.time()\n",
    "print(f'total {end_time - start_time:.3f} seconds on {device}.')"
   ]
  },
  {
   "cell_type": "code",
   "execution_count": 19,
   "id": "4232da1c-5aa8-4f40-9513-4a728186bcda",
   "metadata": {
    "editable": true,
    "slideshow": {
     "slide_type": ""
    },
    "tags": [],
    "ExecuteTime": {
     "end_time": "2024-04-01T18:50:59.460482500Z",
     "start_time": "2024-04-01T18:50:58.974809200Z"
    }
   },
   "outputs": [
    {
     "name": "stdout",
     "output_type": "stream",
     "text": [
      "Accuracy \"A\": 98.34  1387 : 1364| 23 \n",
      "Accuracy \"B\": 96.77   867 :  839| 28 \n",
      "Accuracy \"C\": 98.33  2341 : 2302| 39 \n",
      "Accuracy \"D\": 94.08  1013 :  953| 60 \n",
      "Accuracy \"E\": 96.85  1144 : 1108| 36 \n",
      "Accuracy \"F\":  0.00   116 :    0|116 \n",
      "Accuracy \"G\": 94.62   576 :  545| 31 \n",
      "Accuracy \"H\": 92.52   722 :  668| 54 \n",
      "Accuracy \"I\":  0.00   112 :    0|112 \n",
      "Accuracy \"J\": 96.23   849 :  817| 32 \n",
      "Accuracy \"K\": 95.18   560 :  533| 27 \n",
      "Accuracy \"L\": 97.41  1159 : 1129| 30 \n",
      "Accuracy \"M\": 97.97  1234 : 1209| 25 \n",
      "Accuracy \"N\": 98.05  1901 : 1864| 37 \n",
      "Accuracy \"O\": 99.17  5783 : 5735| 48 \n",
      "Accuracy \"P\": 97.78  1934 : 1891| 43 \n",
      "Accuracy \"Q\": 94.66   581 :  550| 31 \n",
      "Accuracy \"R\": 96.37  1157 : 1115| 42 \n",
      "Accuracy \"S\": 99.11  4842 : 4799| 43 \n",
      "Accuracy \"T\": 99.24  2249 : 2232| 17 \n",
      "Accuracy \"U\": 99.28  2901 : 2880| 21 \n",
      "Accuracy \"V\":  0.00   418 :    0|418 \n",
      "Accuracy \"W\": 96.29  1078 : 1038| 40 \n",
      "Accuracy \"X\": 96.17   627 :  603| 24 \n",
      "Accuracy \"Y\": 96.78  1086 : 1051| 35 \n",
      "Accuracy \"Z\": 97.04   608 :  590| 18 \n"
     ]
    }
   ],
   "source": [
    "pred_test = torch.Tensor().to(device)\n",
    "y_test = torch.Tensor().to(device)\n",
    "for j, (X_batch, y_batch) in enumerate(test_loader):\n",
    "    pred_batch = torch.argmax(model(X_batch), dim=1)\n",
    "    pred_test = torch.cat((pred_test, pred_batch))\n",
    "    y_test = torch.cat((y_test, y_batch))\n",
    "\n",
    "pred_test = pred_test.to('cpu')\n",
    "y_test = y_test.to('cpu')\n",
    "\n",
    "conf_matrix = confusion_matrix(y_test, pred_test)\n",
    "accuracy_per_class = conf_matrix.diagonal() / conf_matrix.sum(axis=1)\n",
    "\n",
    "for i, acc in enumerate(accuracy_per_class):\n",
    "    total = conf_matrix.sum(axis=1)[i]\n",
    "    right = conf_matrix.diagonal()[i]\n",
    "    wrong = total - right\n",
    "    print(f'Accuracy \"{alphabet_map[i]}\": {acc * 100:5.2f}  {total:4.0f} : {right:4.0f}|{wrong:3.0f} ')"
   ]
  },
  {
   "cell_type": "code",
   "execution_count": 20,
   "id": "5d37d298-fbbe-471b-872f-b1dd051a8ed0",
   "metadata": {
    "ExecuteTime": {
     "end_time": "2024-04-01T18:50:59.466210Z",
     "start_time": "2024-04-01T18:50:59.458489400Z"
    }
   },
   "outputs": [],
   "source": [
    "# saving model's stats (parameters)\n",
    "FILE = 'models/character_recognizer_model.pth'\n",
    "torch.save(model.state_dict(), FILE)"
   ]
  }
 ],
 "metadata": {
  "kernelspec": {
   "display_name": "Python 3 (ipykernel)",
   "language": "python",
   "name": "python3"
  },
  "language_info": {
   "codemirror_mode": {
    "name": "ipython",
    "version": 3
   },
   "file_extension": ".py",
   "mimetype": "text/x-python",
   "name": "python",
   "nbconvert_exporter": "python",
   "pygments_lexer": "ipython3",
   "version": "3.11.5"
  }
 },
 "nbformat": 4,
 "nbformat_minor": 5
}
