{
 "cells": [
  {
   "cell_type": "code",
   "execution_count": 1,
   "id": "72aab384-3275-4f71-bdbe-4bc3bd68e5bc",
   "metadata": {},
   "outputs": [],
   "source": [
    "# Character recognizer (Capitals) A to Z"
   ]
  },
  {
   "cell_type": "code",
   "execution_count": 22,
   "id": "f4069637-df00-4598-a88f-ffe660d43888",
   "metadata": {},
   "outputs": [],
   "source": [
    "import numpy as np\n",
    "import pandas as pd\n",
    "import math\n",
    "import torch\n",
    "import torch.nn as nn\n",
    "import torch.cuda\n",
    "import torchvision.datasets as datasets\n",
    "import torchvision.transforms as transforms\n",
    "import time\n",
    "from torch.utils.data import Dataset, DataLoader\n",
    "from matplotlib import pyplot as plt\n",
    "from sklearn.metrics import confusion_matrix\n",
    "from sklearn.model_selection import train_test_split\n",
    "from sklearn.preprocessing import MinMaxScaler\n",
    "from PIL import Image"
   ]
  },
  {
   "cell_type": "code",
   "execution_count": 3,
   "id": "df2c4a5b-6e52-437a-a05c-ca15eb7d30f3",
   "metadata": {},
   "outputs": [],
   "source": [
    "# data source : https://www.kaggle.com/datasets/sachinpatel21/az-handwritten-alphabets-in-csv-format?rvi=1\n",
    "PATH = 'data/A_Z Handwritten Data.csv'\n",
    "df = pd.read_csv(PATH).astype('float32')"
   ]
  },
  {
   "cell_type": "code",
   "execution_count": 4,
   "id": "ecf1fb4b-fc4d-4ac8-89a0-4f2c3d9b7db3",
   "metadata": {},
   "outputs": [
    {
     "name": "stdout",
     "output_type": "stream",
     "text": [
      "<class 'pandas.core.frame.DataFrame'>\n",
      "RangeIndex: 372450 entries, 0 to 372449\n",
      "Columns: 785 entries, 0 to 0.648\n",
      "dtypes: float32(785)\n",
      "memory usage: 1.1 GB\n"
     ]
    }
   ],
   "source": [
    "df.info()"
   ]
  },
  {
   "cell_type": "code",
   "execution_count": 5,
   "id": "9b9bba1b-7bf6-4b99-b9a7-6d444e756d6c",
   "metadata": {},
   "outputs": [
    {
     "data": {
      "text/plain": [
       "{0: 'A',\n",
       " 1: 'B',\n",
       " 2: 'C',\n",
       " 3: 'D',\n",
       " 4: 'E',\n",
       " 5: 'F',\n",
       " 6: 'G',\n",
       " 7: 'H',\n",
       " 8: 'I',\n",
       " 9: 'J',\n",
       " 10: 'K',\n",
       " 11: 'L',\n",
       " 12: 'M',\n",
       " 13: 'N',\n",
       " 14: 'O',\n",
       " 15: 'P',\n",
       " 16: 'Q',\n",
       " 17: 'R',\n",
       " 18: 'S',\n",
       " 19: 'T',\n",
       " 20: 'U',\n",
       " 21: 'V',\n",
       " 22: 'W',\n",
       " 23: 'X',\n",
       " 24: 'Y',\n",
       " 25: 'Z'}"
      ]
     },
     "execution_count": 5,
     "metadata": {},
     "output_type": "execute_result"
    }
   ],
   "source": [
    "alphabet_map = {i: chr(ord('A') + i) for i in range(26)}\n",
    "alphabet_map"
   ]
  },
  {
   "cell_type": "code",
   "execution_count": 6,
   "id": "3370457d-88e8-4c40-8f2d-2736586638a1",
   "metadata": {},
   "outputs": [
    {
     "data": {
      "text/plain": [
       "device(type='cuda')"
      ]
     },
     "execution_count": 6,
     "metadata": {},
     "output_type": "execute_result"
    }
   ],
   "source": [
    "device = torch.device(\"cuda\" if torch.cuda.is_available() else \"cpu\")\n",
    "device"
   ]
  },
  {
   "cell_type": "code",
   "execution_count": 7,
   "id": "fd77aa9c-cb37-4f3a-b273-6c867fba1402",
   "metadata": {},
   "outputs": [
    {
     "data": {
      "text/plain": [
       "(372450, 784)"
      ]
     },
     "execution_count": 7,
     "metadata": {},
     "output_type": "execute_result"
    }
   ],
   "source": [
    "X, y = df.iloc[:, 1:], df.iloc[:, 0]\n",
    "X = X.to_numpy()\n",
    "y = y.to_numpy()\n",
    "X.shape"
   ]
  },
  {
   "cell_type": "code",
   "execution_count": 8,
   "id": "bcee4dcf-c5dd-492a-8714-248cdae6da15",
   "metadata": {},
   "outputs": [],
   "source": [
    "X_train, X_test, y_train, y_test = train_test_split(X, y, train_size=0.9, stratify=y)\n",
    "\n",
    "# scale data\n",
    "min_max_scaler = MinMaxScaler()\n",
    "min_max_scaler.fit(X_train)\n",
    "\n",
    "X_train = min_max_scaler.transform(X_train)\n",
    "X_test = min_max_scaler.transform(X_test)"
   ]
  },
  {
   "cell_type": "code",
   "execution_count": 9,
   "id": "1a7ca378-061e-4db9-9341-6d50e8837d44",
   "metadata": {},
   "outputs": [],
   "source": [
    "del df, X, y"
   ]
  },
  {
   "cell_type": "code",
   "execution_count": 10,
   "id": "3c80f9b9-b04d-491f-b11a-fc64b2f6ee1c",
   "metadata": {},
   "outputs": [
    {
     "name": "stdout",
     "output_type": "stream",
     "text": [
      "(335205, 784) (37245, 784) (335205,) (37245,)\n"
     ]
    }
   ],
   "source": [
    "print(X_train.shape, X_test.shape, y_train.shape, y_test.shape)"
   ]
  },
  {
   "cell_type": "code",
   "execution_count": 11,
   "id": "29e4f2a8-e870-4cf1-8b95-63b94859b389",
   "metadata": {},
   "outputs": [
    {
     "data": {
      "text/plain": [
       "numpy.ndarray"
      ]
     },
     "execution_count": 11,
     "metadata": {},
     "output_type": "execute_result"
    }
   ],
   "source": [
    "type(y_train)"
   ]
  },
  {
   "cell_type": "code",
   "execution_count": 12,
   "id": "f1674402-ccfc-4ac8-9c48-13e2ff8633ab",
   "metadata": {},
   "outputs": [
    {
     "data": {
      "image/png": "[encoded data removed]",
      "text/plain": [
       "<Figure size 1000x1000 with 1 Axes>"
      ]
     },
     "metadata": {},
     "output_type": "display_data"
    }
   ],
   "source": [
    "labels = list(alphabet_map.values())\n",
    "np.count_nonzero(y_train == 9)\n",
    "train_size, test_size = [], []\n",
    "[(train_size.append((np.count_nonzero(y_train == i))), test_size.append((np.count_nonzero(y_test == i)))) for i in\n",
    " alphabet_map]\n",
    "\n",
    "plt.figure(figsize=(10, 10))\n",
    "plt.barh(y=labels, width=train_size, color=\"blue\", height=0.3)\n",
    "plt.barh(y=labels, width=test_size, left=train_size, color=\"red\", height=0.3)\n",
    "plt.legend(['train', 'test'], loc='upper right')\n",
    "plt.show()"
   ]
  },
  {
   "cell_type": "code",
   "execution_count": 13,
   "id": "89e8a9f9-f2fd-4a14-bc64-d16f9c85234d",
   "metadata": {},
   "outputs": [
    {
     "data": {
      "text/plain": [
       "[('A', 12482, 1387),\n",
       " ('B', 7801, 867),\n",
       " ('C', 21068, 2341),\n",
       " ('D', 9121, 1013),\n",
       " ('E', 10296, 1144),\n",
       " ('F', 1047, 116),\n",
       " ('G', 5186, 576),\n",
       " ('H', 6496, 722),\n",
       " ('I', 1008, 112),\n",
       " ('J', 7644, 849),\n",
       " ('K', 5043, 560),\n",
       " ('L', 10427, 1159),\n",
       " ('M', 11102, 1234),\n",
       " ('N', 17109, 1901),\n",
       " ('O', 52043, 5782),\n",
       " ('P', 17407, 1934),\n",
       " ('Q', 5231, 581),\n",
       " ('R', 10409, 1157),\n",
       " ('S', 43577, 4842),\n",
       " ('T', 20245, 2250),\n",
       " ('U', 26107, 2901),\n",
       " ('V', 3764, 418),\n",
       " ('W', 9706, 1078),\n",
       " ('X', 5645, 627),\n",
       " ('Y', 9773, 1086),\n",
       " ('Z', 5468, 608)]"
      ]
     },
     "execution_count": 13,
     "metadata": {},
     "output_type": "execute_result"
    }
   ],
   "source": [
    "[(alphabet_map[i], np.count_nonzero(y_train == i), np.count_nonzero(y_test == i)) for i in alphabet_map]"
   ]
  },
  {
   "cell_type": "code",
   "execution_count": 14,
   "id": "645c14fa-7c23-49f5-aa75-7f2cf7436d54",
   "metadata": {},
   "outputs": [
    {
     "data": {
      "image/png": "[encoded data removed]",
      "text/plain": [
       "<Figure size 640x480 with 9 Axes>"
      ]
     },
     "metadata": {},
     "output_type": "display_data"
    }
   ],
   "source": [
    "def show_img(X: np.ndarray, y: np.ndarray, pred: np.ndarray):\n",
    "    X = X.reshape(-1, 28, 28)\n",
    "    y = y.reshape(-1, 1)\n",
    "    pred = pred.reshape(-1, 1)\n",
    "    rows = columns = math.ceil(X.shape[0] ** 0.5)\n",
    "    fig, axs = plt.subplots(rows, columns)\n",
    "    for i in range(X.shape[0]):\n",
    "        plt.subplot(rows, columns, i + 1)\n",
    "        plt.axis('off')\n",
    "        plt.imshow(X[i], cmap='grey')\n",
    "        plt.title(f'{alphabet_map[y[i].item()]} -> {alphabet_map[pred[i].item()]}',\n",
    "                  color=('red' if y[i].item() != pred[i].item() else 'green'))\n",
    "    plt.show()\n",
    "\n",
    "\n",
    "sample_index = 200000\n",
    "sample_size = 9\n",
    "show_img(X_train[sample_index:sample_index + sample_size], y_train[sample_index:sample_index + sample_size],\n",
    "         y_train[sample_index:sample_index + sample_size])"
   ]
  },
  {
   "cell_type": "code",
   "execution_count": 15,
   "id": "b3e7ceea-56ec-462d-8b59-d08538d59253",
   "metadata": {},
   "outputs": [],
   "source": [
    "class Model(nn.Module):\n",
    "    def __init__(self, input_size, hidden_size1, hidden_size2):\n",
    "        super().__init__()\n",
    "        self.conv1 = nn.Conv2d(in_channels=1, out_channels=6, kernel_size=5)\n",
    "        self.conv2 = nn.Conv2d(in_channels=6, out_channels=16, kernel_size=5)\n",
    "        self.pool = nn.MaxPool2d(2, 2)\n",
    "\n",
    "        self.l1 = nn.Linear(input_size, hidden_size1)\n",
    "        self.l2 = nn.Linear(hidden_size1, hidden_size2)\n",
    "        self.l3 = nn.Linear(hidden_size2, 26)\n",
    "        self.dropout = nn.Dropout(0.2)\n",
    "\n",
    "        self.relu = nn.ReLU()\n",
    "        self.sig = nn.Sigmoid()\n",
    "\n",
    "    def forward(self, input: torch.Tensor, train=False):\n",
    "        input = input.view(-1, 1, 28, 28)\n",
    "        # size = X * 28*28 * 1\n",
    "\n",
    "        output = self.relu(self.pool(self.conv1(input)))\n",
    "        # size = X * 12*12 * 6\n",
    "        output = self.relu(self.pool(self.conv2(output)))\n",
    "        # size = X * 4*4 * 16\n",
    "\n",
    "        output = output.view(-1, 16 * 4 * 4)  # flattening\n",
    "        # size = X * 256\n",
    "\n",
    "        if train: output = self.dropout(output)\n",
    "        output = self.l1(output)\n",
    "        output = self.relu(output)\n",
    "\n",
    "        if train: output = self.dropout(output)\n",
    "        output = self.l2(output)\n",
    "        output = self.relu(output)\n",
    "\n",
    "        if train: output = self.dropout(output)\n",
    "        output = self.l3(output)\n",
    "        output = self.sig(output)\n",
    "        return output"
   ]
  },
  {
   "cell_type": "code",
   "execution_count": 16,
   "id": "43f5ca9e-a000-47b8-a5db-bfc5da2b2e56",
   "metadata": {},
   "outputs": [],
   "source": [
    "class CharacterDataset(Dataset):\n",
    "    def __init__(self, X: np.ndarray, y: np.ndarray, device=None):\n",
    "        if not device:\n",
    "            device = torch.device(\"cuda\" if torch.cuda.is_available() else \"cpu\")\n",
    "        self.X = torch.Tensor(X).type(torch.float).to(device)\n",
    "        self.y = torch.Tensor(y).type(torch.uint8).to(device)\n",
    "        self.length = X.shape[0]\n",
    "\n",
    "    def __getitem__(self, index):\n",
    "        return self.X[index], self.y[index]\n",
    "\n",
    "    def __len__(self):\n",
    "        return self.length"
   ]
  },
  {
   "cell_type": "code",
   "execution_count": 17,
   "id": "913f3f36-90c6-4a76-9170-85f7b5d721dd",
   "metadata": {},
   "outputs": [],
   "source": [
    "train_dataset = CharacterDataset(X_train, y_train)\n",
    "train_loader = DataLoader(train_dataset, shuffle=True, batch_size=10000)\n",
    "\n",
    "test_dataset = CharacterDataset(X_test, y_test)\n",
    "test_loader = DataLoader(test_dataset, batch_size=10000)\n",
    "\n",
    "del X_train, X_test, y_train, y_test"
   ]
  },
  {
   "cell_type": "code",
   "execution_count": 18,
   "id": "da97174d-086d-4102-b351-b3101665d9ed",
   "metadata": {},
   "outputs": [
    {
     "name": "stdout",
     "output_type": "stream",
     "text": [
      "epoch = 0/50\n",
      "loss = 3.045\n",
      "accuracy = 15.524\n",
      "\n",
      "epoch = 1/50\n",
      "loss = 2.969\n",
      "accuracy = 15.524\n",
      "\n",
      "epoch = 2/50\n",
      "loss = 2.787\n",
      "accuracy = 22.035\n",
      "\n",
      "epoch = 3/50\n",
      "loss = 2.657\n",
      "accuracy = 56.260\n",
      "\n",
      "epoch = 4/50\n",
      "loss = 2.575\n",
      "accuracy = 67.982\n",
      "\n",
      "epoch = 5/50\n",
      "loss = 2.529\n",
      "accuracy = 73.392\n",
      "\n",
      "epoch = 6/50\n",
      "loss = 2.487\n",
      "accuracy = 79.495\n",
      "\n",
      "epoch = 7/50\n",
      "loss = 2.461\n",
      "accuracy = 83.136\n",
      "\n",
      "epoch = 8/50\n",
      "loss = 2.448\n",
      "accuracy = 86.017\n",
      "\n",
      "epoch = 9/50\n",
      "loss = 2.437\n",
      "accuracy = 87.870\n",
      "\n",
      "epoch = 10/50\n",
      "loss = 2.433\n",
      "accuracy = 88.922\n",
      "\n",
      "epoch = 11/50\n",
      "loss = 2.429\n",
      "accuracy = 89.717\n",
      "\n",
      "epoch = 12/50\n",
      "loss = 2.422\n",
      "accuracy = 90.243\n",
      "\n",
      "epoch = 13/50\n",
      "loss = 2.417\n",
      "accuracy = 90.944\n",
      "\n",
      "epoch = 14/50\n",
      "loss = 2.413\n",
      "accuracy = 91.381\n",
      "\n",
      "epoch = 15/50\n",
      "loss = 2.404\n",
      "accuracy = 92.560\n",
      "\n",
      "epoch = 16/50\n",
      "loss = 2.399\n",
      "accuracy = 93.156\n",
      "\n",
      "epoch = 17/50\n",
      "loss = 2.393\n",
      "accuracy = 93.430\n",
      "\n",
      "epoch = 18/50\n",
      "loss = 2.390\n",
      "accuracy = 93.690\n",
      "\n",
      "epoch = 19/50\n",
      "loss = 2.387\n",
      "accuracy = 93.935\n",
      "\n",
      "epoch = 20/50\n",
      "loss = 2.386\n",
      "accuracy = 94.093\n",
      "\n",
      "epoch = 21/50\n",
      "loss = 2.377\n",
      "accuracy = 95.320\n",
      "\n",
      "epoch = 22/50\n",
      "loss = 2.371\n",
      "accuracy = 95.648\n",
      "\n",
      "epoch = 23/50\n",
      "loss = 2.375\n",
      "accuracy = 95.841\n",
      "\n",
      "epoch = 24/50\n",
      "loss = 2.366\n",
      "accuracy = 96.050\n",
      "\n",
      "epoch = 25/50\n",
      "loss = 2.368\n",
      "accuracy = 96.085\n",
      "\n",
      "epoch = 26/50\n",
      "loss = 2.365\n",
      "accuracy = 96.220\n",
      "\n",
      "epoch = 27/50\n",
      "loss = 2.365\n",
      "accuracy = 96.287\n",
      "\n",
      "epoch = 28/50\n",
      "loss = 2.366\n",
      "accuracy = 96.370\n",
      "\n",
      "epoch = 29/50\n",
      "loss = 2.362\n",
      "accuracy = 96.526\n",
      "\n",
      "epoch = 30/50\n",
      "loss = 2.361\n",
      "accuracy = 96.601\n",
      "\n",
      "epoch = 31/50\n",
      "loss = 2.358\n",
      "accuracy = 96.695\n",
      "\n",
      "epoch = 32/50\n",
      "loss = 2.365\n",
      "accuracy = 96.679\n",
      "\n",
      "epoch = 33/50\n",
      "loss = 2.362\n",
      "accuracy = 96.757\n",
      "\n",
      "epoch = 34/50\n",
      "loss = 2.362\n",
      "accuracy = 96.783\n",
      "\n",
      "epoch = 35/50\n",
      "loss = 2.358\n",
      "accuracy = 96.861\n",
      "\n",
      "epoch = 36/50\n",
      "loss = 2.359\n",
      "accuracy = 96.934\n",
      "\n",
      "epoch = 37/50\n",
      "loss = 2.358\n",
      "accuracy = 96.953\n",
      "\n",
      "epoch = 38/50\n",
      "loss = 2.359\n",
      "accuracy = 96.939\n",
      "\n",
      "epoch = 39/50\n",
      "loss = 2.359\n",
      "accuracy = 97.009\n",
      "\n",
      "epoch = 40/50\n",
      "loss = 2.357\n",
      "accuracy = 97.052\n",
      "\n",
      "epoch = 41/50\n",
      "loss = 2.356\n",
      "accuracy = 97.079\n",
      "\n",
      "epoch = 42/50\n",
      "loss = 2.359\n",
      "accuracy = 97.090\n",
      "\n",
      "epoch = 43/50\n",
      "loss = 2.354\n",
      "accuracy = 97.146\n",
      "\n",
      "epoch = 44/50\n",
      "loss = 2.355\n",
      "accuracy = 97.116\n",
      "\n",
      "epoch = 45/50\n",
      "loss = 2.356\n",
      "accuracy = 97.235\n",
      "\n",
      "epoch = 46/50\n",
      "loss = 2.352\n",
      "accuracy = 97.114\n",
      "\n",
      "epoch = 47/50\n",
      "loss = 2.353\n",
      "accuracy = 97.291\n",
      "\n",
      "epoch = 48/50\n",
      "loss = 2.354\n",
      "accuracy = 97.283\n",
      "\n",
      "epoch = 49/50\n",
      "loss = 2.354\n",
      "accuracy = 97.245\n",
      "\n",
      "total 184.430 seconds on cuda.\n"
     ]
    }
   ],
   "source": [
    "epochs = 50\n",
    "learning_rate = 0.001\n",
    "batch_size = 10000\n",
    "model = Model(4 * 4 * 16, 120, 80).to(device)\n",
    "\n",
    "criterion = nn.CrossEntropyLoss()\n",
    "optimizer = torch.optim.Adam(model.parameters(), lr=learning_rate)\n",
    "start_time = time.time()\n",
    "for i in range(epochs):\n",
    "    print(f'epoch = {i}/{epochs}')\n",
    "    for j, (X_batch, y_batch) in enumerate(train_loader):\n",
    "        pred = model(X_batch, train=True)\n",
    "        loss = criterion(pred, y_batch)\n",
    "        optimizer.zero_grad()\n",
    "        loss.backward()\n",
    "        optimizer.step()\n",
    "\n",
    "    with torch.no_grad():\n",
    "        correct = 0\n",
    "        for j, (X_batch, y_batch) in enumerate(test_loader):\n",
    "            pred_test = model(X_batch)\n",
    "            pred_test = torch.argmax(pred_test, dim=1)\n",
    "            correct += (pred_test == y_batch).sum().item()\n",
    "\n",
    "        acc = 100 * (correct / len(test_dataset))\n",
    "        print(f'loss = {loss.item():.3f}')\n",
    "        print(f'accuracy = {acc:.3f}', end=2 * '\\n')\n",
    "\n",
    "end_time = time.time()\n",
    "print(f'total {end_time - start_time:.3f} seconds on {device}.')"
   ]
  },
  {
   "cell_type": "code",
   "execution_count": 19,
   "id": "4232da1c-5aa8-4f40-9513-4a728186bcda",
   "metadata": {
    "editable": true,
    "slideshow": {
     "slide_type": ""
    },
    "tags": []
   },
   "outputs": [
    {
     "name": "stdout",
     "output_type": "stream",
     "text": [
      "Accuracy \"A\": 99.35  1387 : 1378|  9 \n",
      "Accuracy \"B\": 96.42   867 :  836| 31 \n",
      "Accuracy \"C\": 98.33  2341 : 2302| 39 \n",
      "Accuracy \"D\": 93.88  1013 :  951| 62 \n",
      "Accuracy \"E\": 97.20  1144 : 1112| 32 \n",
      "Accuracy \"F\":  0.00   116 :    0|116 \n",
      "Accuracy \"G\": 94.10   576 :  542| 34 \n",
      "Accuracy \"H\": 95.01   722 :  686| 36 \n",
      "Accuracy \"I\":  0.00   112 :    0|112 \n",
      "Accuracy \"J\": 95.52   849 :  811| 38 \n",
      "Accuracy \"K\": 96.07   560 :  538| 22 \n",
      "Accuracy \"L\": 97.15  1159 : 1126| 33 \n",
      "Accuracy \"M\": 97.57  1234 : 1204| 30 \n",
      "Accuracy \"N\": 98.05  1901 : 1864| 37 \n",
      "Accuracy \"O\": 99.31  5782 : 5742| 40 \n",
      "Accuracy \"P\": 97.88  1934 : 1893| 41 \n",
      "Accuracy \"Q\": 95.35   581 :  554| 27 \n",
      "Accuracy \"R\": 96.11  1157 : 1112| 45 \n",
      "Accuracy \"S\": 99.01  4842 : 4794| 48 \n",
      "Accuracy \"T\": 99.29  2250 : 2234| 16 \n",
      "Accuracy \"U\": 98.69  2901 : 2863| 38 \n",
      "Accuracy \"V\": 99.76   418 :  417|  1 \n",
      "Accuracy \"W\": 96.85  1078 : 1044| 34 \n",
      "Accuracy \"X\": 94.90   627 :  595| 32 \n",
      "Accuracy \"Y\": 94.20  1086 : 1023| 63 \n",
      "Accuracy \"Z\": 98.36   608 :  598| 10 \n"
     ]
    }
   ],
   "source": [
    "pred_test = torch.Tensor().to(device)\n",
    "y_test = torch.Tensor().to(device)\n",
    "for j, (X_batch, y_batch) in enumerate(test_loader):\n",
    "    pred_batch = torch.argmax(model(X_batch), dim=1)\n",
    "    pred_test = torch.cat((pred_test, pred_batch))\n",
    "    y_test = torch.cat((y_test, y_batch))\n",
    "\n",
    "pred_test = pred_test.to('cpu')\n",
    "y_test = y_test.to('cpu')\n",
    "\n",
    "conf_matrix = confusion_matrix(y_test, pred_test)\n",
    "accuracy_per_class = conf_matrix.diagonal() / conf_matrix.sum(axis=1)\n",
    "\n",
    "for i, acc in enumerate(accuracy_per_class):\n",
    "    total = conf_matrix.sum(axis=1)[i]\n",
    "    right = conf_matrix.diagonal()[i]\n",
    "    wrong = total - right\n",
    "    print(f'Accuracy \"{alphabet_map[i]}\": {acc * 100:5.2f}  {total:4.0f} : {right:4.0f}|{wrong:3.0f} ')"
   ]
  },
  {
   "cell_type": "code",
   "execution_count": 20,
   "id": "5d37d298-fbbe-471b-872f-b1dd051a8ed0",
   "metadata": {},
   "outputs": [],
   "source": [
    "# # saving model's stats (parameters)\n",
    "# FILE = 'character_recognizer_model.pth'\n",
    "# torch.save(model.state_dict(), FILE)"
   ]
  },
  {
   "cell_type": "code",
   "execution_count": 36,
   "id": "06b1cb64-f4f5-4f9a-a9c6-2033e11ccdc1",
   "metadata": {},
   "outputs": [],
   "source": [
    "def scaler(image: Image, scaler: MinMaxScaler):\n",
    "    image = image.convert(\"L\")\n",
    "    transform = transforms.Compose([transforms.ToTensor()])\n",
    "\n",
    "    image_tensor = transform(image)\n",
    "\n",
    "    image_array = image_tensor.numpy().flatten().reshape(1, -1)\n",
    "\n",
    "    scaled_image_array = scaler.transform(image_array)\n",
    "\n",
    "    scaled_image_tensor = torch.tensor(scaled_image_array, dtype=torch.float32).reshape(28 * 28)\n",
    "\n",
    "    return scaled_image_tensor"
   ]
  },
  {
   "cell_type": "code",
   "execution_count": 38,
   "id": "f38a2691-63c5-47a2-a490-97d0ab9b536a",
   "metadata": {
    "editable": true,
    "slideshow": {
     "slide_type": ""
    },
    "tags": []
   },
   "outputs": [
    {
     "name": "stdout",
     "output_type": "stream",
     "text": [
      "J  with probability : 0.703\n",
      "V  with probability : 0.685\n",
      "Y  with probability : 0.183\n",
      "U  with probability : 0.139\n",
      "T  with probability : 0.090\n"
     ]
    },
    {
     "data": {
      "image/png": "[encoded data removed]",
      "text/plain": [
       "<Figure size 640x480 with 1 Axes>"
      ]
     },
     "metadata": {},
     "output_type": "display_data"
    },
    {
     "name": "stdout",
     "output_type": "stream",
     "text": [
      "V  with probability : 0.786\n",
      "J  with probability : 0.688\n",
      "U  with probability : 0.178\n",
      "Y  with probability : 0.177\n",
      "N  with probability : 0.067\n"
     ]
    },
    {
     "data": {
      "image/png": "[encoded data removed]",
      "text/plain": [
       "<Figure size 640x480 with 1 Axes>"
      ]
     },
     "metadata": {},
     "output_type": "display_data"
    },
    {
     "name": "stdout",
     "output_type": "stream",
     "text": [
      "J  with probability : 0.693\n",
      "V  with probability : 0.584\n",
      "Y  with probability : 0.207\n",
      "T  with probability : 0.178\n",
      "S  with probability : 0.112\n"
     ]
    },
    {
     "data": {
      "image/png": "[encoded data removed]",
      "text/plain": [
       "<Figure size 640x480 with 1 Axes>"
      ]
     },
     "metadata": {},
     "output_type": "display_data"
    },
    {
     "name": "stdout",
     "output_type": "stream",
     "text": [
      "V  with probability : 0.776\n",
      "J  with probability : 0.687\n",
      "Y  with probability : 0.185\n",
      "U  with probability : 0.178\n",
      "N  with probability : 0.069\n"
     ]
    },
    {
     "data": {
      "image/png": "[encoded data removed]",
      "text/plain": [
       "<Figure size 640x480 with 1 Axes>"
      ]
     },
     "metadata": {},
     "output_type": "display_data"
    },
    {
     "name": "stdout",
     "output_type": "stream",
     "text": [
      "V  with probability : 0.828\n",
      "J  with probability : 0.605\n",
      "U  with probability : 0.283\n",
      "N  with probability : 0.170\n",
      "Y  with probability : 0.158\n"
     ]
    },
    {
     "data": {
      "image/png": "[encoded data removed]",
      "text/plain": [
       "<Figure size 640x480 with 1 Axes>"
      ]
     },
     "metadata": {},
     "output_type": "display_data"
    },
    {
     "name": "stdout",
     "output_type": "stream",
     "text": [
      "J  with probability : 0.691\n",
      "V  with probability : 0.576\n",
      "Y  with probability : 0.210\n",
      "T  with probability : 0.189\n",
      "S  with probability : 0.118\n"
     ]
    },
    {
     "data": {
      "image/png": "[encoded data removed]",
      "text/plain": [
       "<Figure size 640x480 with 1 Axes>"
      ]
     },
     "metadata": {},
     "output_type": "display_data"
    },
    {
     "name": "stdout",
     "output_type": "stream",
     "text": [
      "J  with probability : 0.692\n",
      "V  with probability : 0.567\n",
      "Y  with probability : 0.208\n",
      "T  with probability : 0.191\n",
      "S  with probability : 0.122\n"
     ]
    },
    {
     "data": {
      "image/png": "[encoded data removed]",
      "text/plain": [
       "<Figure size 640x480 with 1 Axes>"
      ]
     },
     "metadata": {},
     "output_type": "display_data"
    },
    {
     "name": "stdout",
     "output_type": "stream",
     "text": [
      "J  with probability : 0.693\n",
      "V  with probability : 0.563\n",
      "Y  with probability : 0.204\n",
      "T  with probability : 0.199\n",
      "S  with probability : 0.125\n"
     ]
    },
    {
     "data": {
      "image/png": "[encoded data removed]",
      "text/plain": [
       "<Figure size 640x480 with 1 Axes>"
      ]
     },
     "metadata": {},
     "output_type": "display_data"
    },
    {
     "name": "stdout",
     "output_type": "stream",
     "text": [
      "J  with probability : 0.694\n",
      "V  with probability : 0.566\n",
      "Y  with probability : 0.208\n",
      "T  with probability : 0.191\n",
      "S  with probability : 0.122\n"
     ]
    },
    {
     "data": {
      "image/png": "[encoded data removed]",
      "text/plain": [
       "<Figure size 640x480 with 1 Axes>"
      ]
     },
     "metadata": {},
     "output_type": "display_data"
    },
    {
     "name": "stdout",
     "output_type": "stream",
     "text": [
      "J  with probability : 0.691\n",
      "V  with probability : 0.577\n",
      "Y  with probability : 0.206\n",
      "T  with probability : 0.187\n",
      "S  with probability : 0.117\n"
     ]
    },
    {
     "data": {
      "image/png": "[encoded data removed]",
      "text/plain": [
       "<Figure size 640x480 with 1 Axes>"
      ]
     },
     "metadata": {},
     "output_type": "display_data"
    },
    {
     "name": "stdout",
     "output_type": "stream",
     "text": [
      "V  with probability : 0.757\n",
      "J  with probability : 0.699\n",
      "U  with probability : 0.225\n",
      "Y  with probability : 0.176\n",
      "N  with probability : 0.107\n"
     ]
    },
    {
     "data": {
      "image/png": "[encoded data removed]",
      "text/plain": [
       "<Figure size 640x480 with 1 Axes>"
      ]
     },
     "metadata": {},
     "output_type": "display_data"
    },
    {
     "name": "stdout",
     "output_type": "stream",
     "text": [
      "J  with probability : 0.692\n",
      "V  with probability : 0.590\n",
      "Y  with probability : 0.209\n",
      "T  with probability : 0.171\n",
      "U  with probability : 0.115\n"
     ]
    },
    {
     "data": {
      "image/png": "[encoded data removed]",
      "text/plain": [
       "<Figure size 640x480 with 1 Axes>"
      ]
     },
     "metadata": {},
     "output_type": "display_data"
    }
   ],
   "source": [
    "for i in range(0, 12):\n",
    "    image_path = f'manual_test/{i}.png'\n",
    "    image = Image.open(image_path)\n",
    "    x = 1 - x\n",
    "    x = scaler(image=image, scaler=min_max_scaler)\n",
    "    x = x.to(device)\n",
    "    pred = model(x)\n",
    "    top_values, top_indices = torch.topk(pred, k=5, sorted=True)\n",
    "    for i, (value, index) in enumerate(zip(top_values[0], top_indices[0]), 1):\n",
    "        print(f\"{alphabet_map[index.item()]}  with probability : {value:2.3f}\")\n",
    "\n",
    "    pred = pred.argmax().item()\n",
    "\n",
    "    x = x.to('cpu')\n",
    "    x = x.numpy()\n",
    "    show_img(x, np.array(pred), np.array(pred))"
   ]
  }
 ],
 "metadata": {
  "kernelspec": {
   "display_name": "Python 3 (ipykernel)",
   "language": "python",
   "name": "python3"
  },
  "language_info": {
   "codemirror_mode": {
    "name": "ipython",
    "version": 3
   },
   "file_extension": ".py",
   "mimetype": "text/x-python",
   "name": "python",
   "nbconvert_exporter": "python",
   "pygments_lexer": "ipython3",
   "version": "3.11.5"
  }
 },
 "nbformat": 4,
 "nbformat_minor": 5
}
