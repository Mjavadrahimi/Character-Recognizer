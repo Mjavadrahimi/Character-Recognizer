{
 "cells": [
  {
   "cell_type": "code",
   "execution_count": 1,
   "id": "72aab384-3275-4f71-bdbe-4bc3bd68e5bc",
   "metadata": {},
   "outputs": [],
   "source": [
    "# Character recognizer (Capitals) A to Z"
   ]
  },
  {
   "cell_type": "code",
   "execution_count": 2,
   "id": "f4069637-df00-4598-a88f-ffe660d43888",
   "metadata": {},
   "outputs": [],
   "source": [
    "import numpy as np\n",
    "import pandas as pd\n",
    "import math\n",
    "from matplotlib import pyplot as plt \n",
    "import torch\n",
    "import torch.nn as nn\n",
    "import torch.cuda\n",
    "import torchvision.datasets as datasets\n",
    "import time\n",
    "from sklearn.metrics import confusion_matrix\n",
    "from sklearn.model_selection import train_test_split"
   ]
  },
  {
   "cell_type": "code",
   "execution_count": 3,
   "id": "df2c4a5b-6e52-437a-a05c-ca15eb7d30f3",
   "metadata": {},
   "outputs": [],
   "source": [
    "# data source : https://www.kaggle.com/datasets/sachinpatel21/az-handwritten-alphabets-in-csv-format?rvi=1\n",
    "PATH = 'data/A_Z Handwritten Data.csv'\n",
    "df = pd.read_csv(PATH).astype('float32')"
   ]
  },
  {
   "cell_type": "code",
   "execution_count": 4,
   "id": "ecf1fb4b-fc4d-4ac8-89a0-4f2c3d9b7db3",
   "metadata": {},
   "outputs": [
    {
     "name": "stdout",
     "output_type": "stream",
     "text": [
      "<class 'pandas.core.frame.DataFrame'>\n",
      "RangeIndex: 372450 entries, 0 to 372449\n",
      "Columns: 785 entries, 0 to 0.648\n",
      "dtypes: float32(785)\n",
      "memory usage: 1.1 GB\n"
     ]
    }
   ],
   "source": [
    "df.info()"
   ]
  },
  {
   "cell_type": "code",
   "execution_count": 83,
   "id": "9b9bba1b-7bf6-4b99-b9a7-6d444e756d6c",
   "metadata": {},
   "outputs": [
    {
     "data": {
      "text/plain": [
       "{0: 'A',\n",
       " 1: 'B',\n",
       " 2: 'C',\n",
       " 3: 'D',\n",
       " 4: 'E',\n",
       " 5: 'F',\n",
       " 6: 'G',\n",
       " 7: 'H',\n",
       " 8: 'I',\n",
       " 9: 'J',\n",
       " 10: 'K',\n",
       " 11: 'L',\n",
       " 12: 'M',\n",
       " 13: 'N',\n",
       " 14: 'O',\n",
       " 15: 'P',\n",
       " 16: 'Q',\n",
       " 17: 'R',\n",
       " 18: 'S',\n",
       " 19: 'T',\n",
       " 20: 'U',\n",
       " 21: 'V',\n",
       " 22: 'W',\n",
       " 23: 'X',\n",
       " 24: 'Y',\n",
       " 25: 'Z'}"
      ]
     },
     "execution_count": 83,
     "metadata": {},
     "output_type": "execute_result"
    }
   ],
   "source": [
    "alphabet_map = {i: chr(ord('A') + i) for i in range(26)}\n",
    "alphabet_map"
   ]
  },
  {
   "cell_type": "code",
   "execution_count": 6,
   "id": "3370457d-88e8-4c40-8f2d-2736586638a1",
   "metadata": {},
   "outputs": [
    {
     "data": {
      "text/plain": [
       "device(type='cuda')"
      ]
     },
     "execution_count": 6,
     "metadata": {},
     "output_type": "execute_result"
    }
   ],
   "source": [
    "device = torch.device(\"cuda\" if torch.cuda.is_available() else \"cpu\")\n",
    "device"
   ]
  },
  {
   "cell_type": "code",
   "execution_count": 49,
   "id": "fd77aa9c-cb37-4f3a-b273-6c867fba1402",
   "metadata": {},
   "outputs": [
    {
     "data": {
      "text/plain": [
       "array([ 0.,  0.,  0., ..., 25., 25., 25.], dtype=float32)"
      ]
     },
     "execution_count": 49,
     "metadata": {},
     "output_type": "execute_result"
    }
   ],
   "source": [
    "X, y = df.iloc[:,1:], df.iloc[:,0]\n",
    "X = X.to_numpy()\n",
    "y = y.to_numpy()\n",
    "y"
   ]
  },
  {
   "cell_type": "code",
   "execution_count": 56,
   "id": "bcee4dcf-c5dd-492a-8714-248cdae6da15",
   "metadata": {},
   "outputs": [],
   "source": [
    "X_train, X_test, y_train, y_test = train_test_split(X, y, train_size=0.9, stratify=y)"
   ]
  },
  {
   "cell_type": "code",
   "execution_count": 57,
   "id": "3c80f9b9-b04d-491f-b11a-fc64b2f6ee1c",
   "metadata": {},
   "outputs": [
    {
     "name": "stdout",
     "output_type": "stream",
     "text": [
      "(335205, 784) (37245, 784) (335205,) (37245,)\n"
     ]
    }
   ],
   "source": [
    "print(X_train.shape, X_test.shape, y_train.shape, y_test.shape)"
   ]
  },
  {
   "cell_type": "code",
   "execution_count": 120,
   "id": "89e8a9f9-f2fd-4a14-bc64-d16f9c85234d",
   "metadata": {},
   "outputs": [
    {
     "data": {
      "text/plain": [
       "[('A', 12482, 1387),\n",
       " ('B', 7801, 867),\n",
       " ('C', 21068, 2341),\n",
       " ('D', 9121, 1013),\n",
       " ('E', 10296, 1144),\n",
       " ('F', 1047, 116),\n",
       " ('G', 5186, 576),\n",
       " ('H', 6496, 722),\n",
       " ('I', 1008, 112),\n",
       " ('J', 7644, 849),\n",
       " ('K', 5043, 560),\n",
       " ('L', 10427, 1159),\n",
       " ('M', 11102, 1234),\n",
       " ('N', 17109, 1901),\n",
       " ('O', 52042, 5783),\n",
       " ('P', 17407, 1934),\n",
       " ('Q', 5231, 581),\n",
       " ('R', 10409, 1157),\n",
       " ('S', 43577, 4842),\n",
       " ('T', 20246, 2249),\n",
       " ('U', 26107, 2901),\n",
       " ('V', 3764, 418),\n",
       " ('W', 9706, 1078),\n",
       " ('X', 5645, 627),\n",
       " ('Y', 9773, 1086),\n",
       " ('Z', 5468, 608)]"
      ]
     },
     "execution_count": 120,
     "metadata": {},
     "output_type": "execute_result"
    }
   ],
   "source": [
    "[(alphabet_map[i], np.count_nonzero(y_train == i), np.count_nonzero(y_test == i)) for i in alphabet_map]"
   ]
  },
  {
   "cell_type": "code",
   "execution_count": 119,
   "id": "f1674402-ccfc-4ac8-9c48-13e2ff8633ab",
   "metadata": {},
   "outputs": [
    {
     "data": {
      "image/png": "[encoded data removed]",
      "text/plain": [
       "<Figure size 1000x1000 with 1 Axes>"
      ]
     },
     "metadata": {},
     "output_type": "display_data"
    }
   ],
   "source": [
    "labels = list(alphabet_map.values())\n",
    "np.count_nonzero(y_train == 9)\n",
    "train_size, test_size = [], []\n",
    "[(train_size.append((np.count_nonzero(y_train == i))), test_size.append((np.count_nonzero(y_test == i)))) for i in alphabet_map]\n",
    "\n",
    "plt.figure(figsize=(10,10))\n",
    "plt.barh(y=labels, width=train_size, color=\"blue\", height=0.3)\n",
    "plt.barh(y=labels, width=test_size, left=train_size, color=\"red\", height=0.3)\n",
    "plt.legend(['True', 'False'], loc='upper right')\n",
    "plt.show()"
   ]
  },
  {
   "cell_type": "code",
   "execution_count": 45,
   "id": "5b1798d3-76c4-435d-aacf-481366434a47",
   "metadata": {},
   "outputs": [
    {
     "data": {
      "text/plain": [
       "tensor([ 0,  0,  0,  ..., 25, 25, 25], device='cuda:0', dtype=torch.uint8)"
      ]
     },
     "execution_count": 45,
     "metadata": {},
     "output_type": "execute_result"
    }
   ],
   "source": [
    "X = torch.Tensor(X).to(device)\n",
    "y = torch.Tensor(y).to(device).type(torch.uint8)\n",
    "y"
   ]
  },
  {
   "cell_type": "code",
   "execution_count": 35,
   "id": "645c14fa-7c23-49f5-aa75-7f2cf7436d54",
   "metadata": {},
   "outputs": [
    {
     "data": {
      "image/png": "[encoded data removed]",
      "text/plain": [
       "<Figure size 640x480 with 9 Axes>"
      ]
     },
     "metadata": {},
     "output_type": "display_data"
    }
   ],
   "source": [
    "def show_img(X: torch.Tensor, y: torch.Tensor, pred: torch.Tensor):\n",
    "    X = torch.Tensor.cpu(X).reshape(-1, 28, 28, 1)\n",
    "    y = torch.Tensor.cpu(y).reshape(-1, 1)\n",
    "    pred = torch.Tensor.cpu(pred).reshape(-1, 1)\n",
    "    rows = columns = math.ceil(X.size(dim=0)**0.5)\n",
    "    fig, axs = plt.subplots(rows, columns)\n",
    "    for i in range(X.size(dim=0)):\n",
    "        plt.subplot(rows, columns, i+1)\n",
    "        plt.axis('off')\n",
    "        plt.imshow(X[i] , cmap='grey')\n",
    "        plt.title(f'{alphabet_map[y[i].item()]} -> {alphabet_map[pred[i].item()]}', color=('red' if y[i].item()!=pred[i].item() else 'green'))\n",
    "    plt.show()\n",
    "\n",
    "sample_index = 200000\n",
    "sample_size = 9\n",
    "show_img(X[sample_index:sample_index+sample_size], y[sample_index:sample_index+sample_size], y[sample_index:sample_index+sample_size])"
   ]
  },
  {
   "cell_type": "code",
   "execution_count": 37,
   "id": "b3e7ceea-56ec-462d-8b59-d08538d59253",
   "metadata": {},
   "outputs": [],
   "source": [
    "class Model(nn.Module):\n",
    "    def __init__(self, input_size, hidden_size1, hidden_size2):\n",
    "        super().__init__()\n",
    "        self.conv1 = nn.Conv2d(in_channels=1, out_channels=6, kernel_size=5)\n",
    "        self.conv2 = nn.Conv2d(in_channels=6, out_channels=16, kernel_size=5)\n",
    "        self.pool = nn.MaxPool2d(2, 2)\n",
    "        \n",
    "        self.l1 = nn.Linear(input_size, hidden_size1)\n",
    "        self.l2 = nn.Linear(hidden_size1, hidden_size2)\n",
    "        self.l3 = nn.Linear(hidden_size2, 26)\n",
    "        self.dropout = nn.Dropout(0.2)\n",
    "        \n",
    "        self.relu = nn.ReLU()\n",
    "        self.sig = nn.Sigmoid()\n",
    "\n",
    "    def forward(self, input: torch.Tensor):\n",
    "        input = input.view(-1, 1, 28, 28)\n",
    "        # size = X * 28*28 * 1\n",
    "        \n",
    "        output = self.relu(self.pool(self.conv1(input)))\n",
    "        # size = X * 12*12 * 6\n",
    "        output = self.relu(self.pool(self.conv2(output)))\n",
    "        # size = X * 4*4 * 16\n",
    "        \n",
    "        output = output.view(-1, 16 * 4*4) # flattening\n",
    "        # size = X * 256\n",
    "\n",
    "        output = self.dropout(output)\n",
    "        output = self.l1(output)\n",
    "        output = self.relu(output)\n",
    "        \n",
    "        output = self.dropout(output)\n",
    "        output = self.l2(output)\n",
    "        output = self.relu(output)\n",
    "        \n",
    "        output = self.dropout(output)\n",
    "        output = self.l3(output)\n",
    "        output = self.sig(output)\n",
    "        return output"
   ]
  },
  {
   "cell_type": "code",
   "execution_count": 40,
   "id": "da97174d-086d-4102-b351-b3101665d9ed",
   "metadata": {},
   "outputs": [
    {
     "ename": "NameError",
     "evalue": "name 'X_train' is not defined",
     "output_type": "error",
     "traceback": [
      "\u001b[1;31m---------------------------------------------------------------------------\u001b[0m",
      "\u001b[1;31mNameError\u001b[0m                                 Traceback (most recent call last)",
      "Cell \u001b[1;32mIn[40], line 9\u001b[0m\n\u001b[0;32m      7\u001b[0m start_time \u001b[38;5;241m=\u001b[39m time\u001b[38;5;241m.\u001b[39mtime()\n\u001b[0;32m      8\u001b[0m \u001b[38;5;28;01mfor\u001b[39;00m i \u001b[38;5;129;01min\u001b[39;00m \u001b[38;5;28mrange\u001b[39m(epochs):\n\u001b[1;32m----> 9\u001b[0m     pred \u001b[38;5;241m=\u001b[39m model(X_train)\n\u001b[0;32m     10\u001b[0m     loss \u001b[38;5;241m=\u001b[39m criterion(pred, y_train)\n\u001b[0;32m     12\u001b[0m     optimizer\u001b[38;5;241m.\u001b[39mzero_grad()\n",
      "\u001b[1;31mNameError\u001b[0m: name 'X_train' is not defined"
     ]
    }
   ],
   "source": [
    "epochs = 1\n",
    "learning_rate = 0.0005\n",
    "model = Model(4*4*16, 120, 80).to(device)\n",
    "\n",
    "criterion = nn.CrossEntropyLoss()\n",
    "optimizer = torch.optim.Adam(model.parameters(), lr=learning_rate)\n",
    "start_time = time.time()\n",
    "for i in range(epochs):\n",
    "    pred = model(X_train)\n",
    "    loss = criterion(pred, y_train)\n",
    "        \n",
    "    optimizer.zero_grad()\n",
    "    loss.backward()\n",
    "    optimizer.step()\n",
    "    if(i % (epochs//10)==0):\n",
    "        with torch.no_grad():\n",
    "            pred_test = model(X_test)\n",
    "            pred_test = torch.argmax(pred_test, dim=1)\n",
    "        \n",
    "            correct = (pred_test==y_test).sum().item()\n",
    "            acc = 100 * (correct/y_test.size(dim=0))\n",
    "            print(f'epoch = {i}/{epochs}')\n",
    "            print(f'loss = {loss.item():.3f}')\n",
    "            print(f'accuracy = {acc:.3f}', end=2*'\\n')\n",
    "\n",
    "\n",
    "with torch.no_grad(): # not using evaluation(test) for gradient descent\n",
    "    pred_test = model(X_test)\n",
    "    pred_test = torch.argmax(pred_test, dim=1)\n",
    "\n",
    "    correct = (pred_test==y_test).sum().item()\n",
    "    acc = 100 * (correct/y_test.size(dim=0))\n",
    "    print(f'epoch = {i+1}/{epochs}')\n",
    "    print(f'loss = {loss.item():.3f}')\n",
    "    print(f'accuracy = {acc:.3f}', end=2*'\\n')\n",
    "    \n",
    "end_time = time.time()\n",
    "print(f'total {end_time-start_time:.3f} seconds on {device}.')\n"
   ]
  }
 ],
 "metadata": {
  "kernelspec": {
   "display_name": "Python 3 (ipykernel)",
   "language": "python",
   "name": "python3"
  },
  "language_info": {
   "codemirror_mode": {
    "name": "ipython",
    "version": 3
   },
   "file_extension": ".py",
   "mimetype": "text/x-python",
   "name": "python",
   "nbconvert_exporter": "python",
   "pygments_lexer": "ipython3",
   "version": "3.11.5"
  }
 },
 "nbformat": 4,
 "nbformat_minor": 5
}
