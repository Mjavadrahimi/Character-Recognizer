{
 "cells": [
  {
   "cell_type": "code",
   "execution_count": 1,
   "id": "72aab384-3275-4f71-bdbe-4bc3bd68e5bc",
   "metadata": {},
   "outputs": [],
   "source": [
    "# Character recognizer (Capitals) A to Z"
   ]
  },
  {
   "cell_type": "code",
   "execution_count": 2,
   "id": "f4069637-df00-4598-a88f-ffe660d43888",
   "metadata": {},
   "outputs": [],
   "source": [
    "import numpy as np\n",
    "import pandas as pd\n",
    "import math\n",
    "from matplotlib import pyplot as plt \n",
    "import torch\n",
    "import torch.nn as nn\n",
    "import torch.cuda\n",
    "import torchvision.datasets as datasets\n",
    "import time\n",
    "from sklearn.metrics import confusion_matrix\n",
    "from sklearn.model_selection import train_test_split\n",
    "from torch.utils.data import Dataset, DataLoader"
   ]
  },
  {
   "cell_type": "code",
   "execution_count": 3,
   "id": "df2c4a5b-6e52-437a-a05c-ca15eb7d30f3",
   "metadata": {},
   "outputs": [],
   "source": [
    "# data source : https://www.kaggle.com/datasets/sachinpatel21/az-handwritten-alphabets-in-csv-format?rvi=1\n",
    "PATH = 'data/A_Z Handwritten Data.csv'\n",
    "df = pd.read_csv(PATH).astype('float32')"
   ]
  },
  {
   "cell_type": "code",
   "execution_count": 4,
   "id": "ecf1fb4b-fc4d-4ac8-89a0-4f2c3d9b7db3",
   "metadata": {},
   "outputs": [
    {
     "name": "stdout",
     "output_type": "stream",
     "text": [
      "<class 'pandas.core.frame.DataFrame'>\n",
      "RangeIndex: 372450 entries, 0 to 372449\n",
      "Columns: 785 entries, 0 to 0.648\n",
      "dtypes: float32(785)\n",
      "memory usage: 1.1 GB\n"
     ]
    }
   ],
   "source": [
    "df.info()"
   ]
  },
  {
   "cell_type": "code",
   "execution_count": 5,
   "id": "9b9bba1b-7bf6-4b99-b9a7-6d444e756d6c",
   "metadata": {},
   "outputs": [
    {
     "data": {
      "text/plain": [
       "{0: 'A',\n",
       " 1: 'B',\n",
       " 2: 'C',\n",
       " 3: 'D',\n",
       " 4: 'E',\n",
       " 5: 'F',\n",
       " 6: 'G',\n",
       " 7: 'H',\n",
       " 8: 'I',\n",
       " 9: 'J',\n",
       " 10: 'K',\n",
       " 11: 'L',\n",
       " 12: 'M',\n",
       " 13: 'N',\n",
       " 14: 'O',\n",
       " 15: 'P',\n",
       " 16: 'Q',\n",
       " 17: 'R',\n",
       " 18: 'S',\n",
       " 19: 'T',\n",
       " 20: 'U',\n",
       " 21: 'V',\n",
       " 22: 'W',\n",
       " 23: 'X',\n",
       " 24: 'Y',\n",
       " 25: 'Z'}"
      ]
     },
     "execution_count": 5,
     "metadata": {},
     "output_type": "execute_result"
    }
   ],
   "source": [
    "alphabet_map = {i: chr(ord('A') + i) for i in range(26)}\n",
    "alphabet_map"
   ]
  },
  {
   "cell_type": "code",
   "execution_count": 6,
   "id": "3370457d-88e8-4c40-8f2d-2736586638a1",
   "metadata": {},
   "outputs": [
    {
     "data": {
      "text/plain": [
       "device(type='cuda')"
      ]
     },
     "execution_count": 6,
     "metadata": {},
     "output_type": "execute_result"
    }
   ],
   "source": [
    "device = torch.device(\"cuda\" if torch.cuda.is_available() else \"cpu\")\n",
    "device"
   ]
  },
  {
   "cell_type": "code",
   "execution_count": 7,
   "id": "fd77aa9c-cb37-4f3a-b273-6c867fba1402",
   "metadata": {},
   "outputs": [
    {
     "data": {
      "text/plain": [
       "(372450, 28, 28)"
      ]
     },
     "execution_count": 7,
     "metadata": {},
     "output_type": "execute_result"
    }
   ],
   "source": [
    "X, y = df.iloc[:,1:], df.iloc[:,0]\n",
    "X = X.to_numpy().reshape(-1, 28, 28)\n",
    "y = y.to_numpy()\n",
    "X.shape"
   ]
  },
  {
   "cell_type": "code",
   "execution_count": 8,
   "id": "bcee4dcf-c5dd-492a-8714-248cdae6da15",
   "metadata": {},
   "outputs": [],
   "source": [
    "X_train, X_test, y_train, y_test = train_test_split(X, y, train_size=0.9, stratify=y)"
   ]
  },
  {
   "cell_type": "code",
   "execution_count": 9,
   "id": "3c80f9b9-b04d-491f-b11a-fc64b2f6ee1c",
   "metadata": {},
   "outputs": [
    {
     "name": "stdout",
     "output_type": "stream",
     "text": [
      "(335205, 28, 28) (37245, 28, 28) (335205,) (37245,)\n"
     ]
    }
   ],
   "source": [
    "print(X_train.shape, X_test.shape, y_train.shape, y_test.shape)"
   ]
  },
  {
   "cell_type": "code",
   "execution_count": 10,
   "id": "29e4f2a8-e870-4cf1-8b95-63b94859b389",
   "metadata": {},
   "outputs": [
    {
     "data": {
      "text/plain": [
       "numpy.ndarray"
      ]
     },
     "execution_count": 10,
     "metadata": {},
     "output_type": "execute_result"
    }
   ],
   "source": [
    "type(y_train)"
   ]
  },
  {
   "cell_type": "code",
   "execution_count": 11,
   "id": "f1674402-ccfc-4ac8-9c48-13e2ff8633ab",
   "metadata": {},
   "outputs": [
    {
     "data": {
      "image/png": "[encoded data removed]",
      "text/plain": [
       "<Figure size 1000x1000 with 1 Axes>"
      ]
     },
     "metadata": {},
     "output_type": "display_data"
    }
   ],
   "source": [
    "labels = list(alphabet_map.values())\n",
    "np.count_nonzero(y_train == 9)\n",
    "train_size, test_size = [], []\n",
    "[(train_size.append((np.count_nonzero(y_train == i))), test_size.append((np.count_nonzero(y_test == i)))) for i in alphabet_map]\n",
    "\n",
    "plt.figure(figsize=(10,10))\n",
    "plt.barh(y=labels, width=train_size, color=\"blue\", height=0.3)\n",
    "plt.barh(y=labels, width=test_size, left=train_size, color=\"red\", height=0.3)\n",
    "plt.legend(['train', 'test'], loc='upper right')\n",
    "plt.show()"
   ]
  },
  {
   "cell_type": "code",
   "execution_count": 12,
   "id": "89e8a9f9-f2fd-4a14-bc64-d16f9c85234d",
   "metadata": {},
   "outputs": [
    {
     "data": {
      "text/plain": [
       "[('A', 12482, 1387),\n",
       " ('B', 7801, 867),\n",
       " ('C', 21068, 2341),\n",
       " ('D', 9121, 1013),\n",
       " ('E', 10296, 1144),\n",
       " ('F', 1047, 116),\n",
       " ('G', 5186, 576),\n",
       " ('H', 6496, 722),\n",
       " ('I', 1008, 112),\n",
       " ('J', 7644, 849),\n",
       " ('K', 5043, 560),\n",
       " ('L', 10427, 1159),\n",
       " ('M', 11102, 1234),\n",
       " ('N', 17109, 1901),\n",
       " ('O', 52043, 5782),\n",
       " ('P', 17407, 1934),\n",
       " ('Q', 5231, 581),\n",
       " ('R', 10409, 1157),\n",
       " ('S', 43577, 4842),\n",
       " ('T', 20245, 2250),\n",
       " ('U', 26107, 2901),\n",
       " ('V', 3764, 418),\n",
       " ('W', 9706, 1078),\n",
       " ('X', 5645, 627),\n",
       " ('Y', 9773, 1086),\n",
       " ('Z', 5468, 608)]"
      ]
     },
     "execution_count": 12,
     "metadata": {},
     "output_type": "execute_result"
    }
   ],
   "source": [
    "[(alphabet_map[i], np.count_nonzero(y_train == i), np.count_nonzero(y_test == i)) for i in alphabet_map]"
   ]
  },
  {
   "cell_type": "code",
   "execution_count": 13,
   "id": "645c14fa-7c23-49f5-aa75-7f2cf7436d54",
   "metadata": {},
   "outputs": [
    {
     "name": "stdout",
     "output_type": "stream",
     "text": [
      "3\n"
     ]
    },
    {
     "data": {
      "image/png": "[encoded data removed]",
      "text/plain": [
       "<Figure size 640x480 with 9 Axes>"
      ]
     },
     "metadata": {},
     "output_type": "display_data"
    }
   ],
   "source": [
    "def show_img(X, y, pred):\n",
    "    X = X.reshape(-1, 28, 28)\n",
    "    y = y.reshape(-1, 1)\n",
    "    pred = pred.reshape(-1, 1)\n",
    "    rows = columns = math.ceil(X.shape[0]**0.5)\n",
    "    print(rows)\n",
    "    fig, axs = plt.subplots(rows, columns)\n",
    "    for i in range(X.shape[0]):\n",
    "        plt.subplot(rows, columns, i+1)\n",
    "        plt.axis('off')\n",
    "        plt.imshow(X[i] , cmap='grey')\n",
    "        plt.title(f'{alphabet_map[y[i].item()]} -> {alphabet_map[pred[i].item()]}', color=('red' if y[i].item()!=pred[i].item() else 'green'))\n",
    "    plt.show()\n",
    "\n",
    "sample_index = 200000\n",
    "sample_size = 9\n",
    "show_img(X_train[sample_index:sample_index+sample_size], y_train[sample_index:sample_index+sample_size], y_train[sample_index:sample_index+sample_size])"
   ]
  },
  {
   "cell_type": "code",
   "execution_count": 22,
   "id": "b3e7ceea-56ec-462d-8b59-d08538d59253",
   "metadata": {},
   "outputs": [],
   "source": [
    "class Model(nn.Module):\n",
    "    def __init__(self, input_size, hidden_size1, hidden_size2):\n",
    "        super().__init__()\n",
    "        self.conv1 = nn.Conv2d(in_channels=1, out_channels=6, kernel_size=5)\n",
    "        self.conv2 = nn.Conv2d(in_channels=6, out_channels=16, kernel_size=5)\n",
    "        self.pool = nn.MaxPool2d(2, 2)\n",
    "        \n",
    "        self.l1 = nn.Linear(input_size, hidden_size1)\n",
    "        self.l2 = nn.Linear(hidden_size1, hidden_size2)\n",
    "        self.l3 = nn.Linear(hidden_size2, 26)\n",
    "        self.dropout = nn.Dropout(0.2)\n",
    "        \n",
    "        self.relu = nn.ReLU()\n",
    "        self.sig = nn.Sigmoid()\n",
    "\n",
    "    def forward(self, input: torch.Tensor, train=False):\n",
    "        input = input.view(-1, 1, 28, 28)\n",
    "        # size = X * 28*28 * 1\n",
    "        \n",
    "        output = self.relu(self.pool(self.conv1(input)))\n",
    "        # size = X * 12*12 * 6\n",
    "        output = self.relu(self.pool(self.conv2(output)))\n",
    "        # size = X * 4*4 * 16\n",
    "        \n",
    "        output = output.view(-1, 16 * 4*4) # flattening\n",
    "        # size = X * 256\n",
    "\n",
    "        if train : output = self.dropout(output)\n",
    "        output = self.l1(output)\n",
    "        output = self.relu(output)\n",
    "        \n",
    "        if train : output = self.dropout(output)\n",
    "        output = self.l2(output)\n",
    "        output = self.relu(output)\n",
    "        \n",
    "        if train : output = self.dropout(output)\n",
    "        output = self.l3(output)\n",
    "        output = self.sig(output)\n",
    "        return output"
   ]
  },
  {
   "cell_type": "code",
   "execution_count": 15,
   "id": "43f5ca9e-a000-47b8-a5db-bfc5da2b2e56",
   "metadata": {},
   "outputs": [],
   "source": [
    "class CharacterDataset(Dataset):\n",
    "    def __init__(self, X: np.ndarray, y: np.ndarray, device=None):\n",
    "        if not device:\n",
    "            device = torch.device(\"cuda\" if torch.cuda.is_available() else \"cpu\")\n",
    "        self.X = torch.Tensor(X).type(torch.float).to(device)\n",
    "        self.y = torch.Tensor(y).type(torch.uint8).to(device)\n",
    "        self.length = X.shape[0]\n",
    "    def __getitem__(self, index):\n",
    "        return self.X[index] ,self.y[index]\n",
    "    def __len__(self):\n",
    "        return self.length"
   ]
  },
  {
   "cell_type": "code",
   "execution_count": 24,
   "id": "da97174d-086d-4102-b351-b3101665d9ed",
   "metadata": {},
   "outputs": [
    {
     "name": "stdout",
     "output_type": "stream",
     "text": [
      "epoch = 0/50\n",
      "loss = 2.730\n",
      "accuracy = 62.688\n",
      "\n",
      "epoch = 1/50\n",
      "loss = 2.553\n",
      "accuracy = 76.324\n",
      "\n",
      "epoch = 2/50\n",
      "loss = 2.489\n",
      "accuracy = 82.502\n",
      "\n",
      "epoch = 3/50\n",
      "loss = 2.464\n",
      "accuracy = 85.657\n",
      "\n",
      "epoch = 4/50\n",
      "loss = 2.451\n",
      "accuracy = 88.074\n",
      "\n",
      "epoch = 5/50\n",
      "loss = 2.446\n",
      "accuracy = 89.062\n",
      "\n",
      "epoch = 6/50\n",
      "loss = 2.428\n",
      "accuracy = 90.036\n",
      "\n",
      "epoch = 7/50\n",
      "loss = 2.423\n",
      "accuracy = 90.683\n",
      "\n",
      "epoch = 8/50\n",
      "loss = 2.406\n",
      "accuracy = 92.955\n",
      "\n",
      "epoch = 9/50\n",
      "loss = 2.396\n",
      "accuracy = 93.277\n",
      "\n",
      "epoch = 10/50\n",
      "loss = 2.385\n",
      "accuracy = 95.028\n",
      "\n",
      "epoch = 11/50\n",
      "loss = 2.382\n",
      "accuracy = 95.342\n",
      "\n",
      "epoch = 12/50\n",
      "loss = 2.376\n",
      "accuracy = 95.688\n",
      "\n",
      "epoch = 13/50\n",
      "loss = 2.376\n",
      "accuracy = 95.774\n",
      "\n",
      "epoch = 14/50\n",
      "loss = 2.368\n",
      "accuracy = 96.010\n",
      "\n",
      "epoch = 15/50\n",
      "loss = 2.364\n",
      "accuracy = 96.096\n",
      "\n",
      "epoch = 16/50\n",
      "loss = 2.365\n",
      "accuracy = 96.217\n",
      "\n",
      "epoch = 17/50\n",
      "loss = 2.359\n",
      "accuracy = 96.375\n",
      "\n",
      "epoch = 18/50\n",
      "loss = 2.363\n",
      "accuracy = 96.512\n",
      "\n",
      "epoch = 19/50\n",
      "loss = 2.358\n",
      "accuracy = 96.531\n",
      "\n",
      "epoch = 20/50\n",
      "loss = 2.358\n",
      "accuracy = 96.689\n",
      "\n",
      "epoch = 21/50\n",
      "loss = 2.359\n",
      "accuracy = 96.783\n",
      "\n",
      "epoch = 22/50\n",
      "loss = 2.358\n",
      "accuracy = 96.894\n",
      "\n",
      "epoch = 23/50\n",
      "loss = 2.359\n",
      "accuracy = 96.918\n",
      "\n",
      "epoch = 24/50\n",
      "loss = 2.359\n",
      "accuracy = 97.060\n",
      "\n",
      "epoch = 25/50\n",
      "loss = 2.354\n",
      "accuracy = 97.073\n",
      "\n",
      "epoch = 26/50\n",
      "loss = 2.359\n",
      "accuracy = 97.092\n",
      "\n",
      "epoch = 27/50\n",
      "loss = 2.356\n",
      "accuracy = 97.200\n",
      "\n",
      "epoch = 28/50\n",
      "loss = 2.356\n",
      "accuracy = 97.216\n",
      "\n",
      "epoch = 29/50\n",
      "loss = 2.355\n",
      "accuracy = 97.178\n",
      "\n",
      "epoch = 30/50\n",
      "loss = 2.349\n",
      "accuracy = 97.243\n",
      "\n",
      "epoch = 31/50\n",
      "loss = 2.354\n",
      "accuracy = 97.224\n",
      "\n",
      "epoch = 32/50\n",
      "loss = 2.354\n",
      "accuracy = 97.315\n",
      "\n",
      "epoch = 33/50\n",
      "loss = 2.356\n",
      "accuracy = 97.393\n",
      "\n",
      "epoch = 34/50\n",
      "loss = 2.349\n",
      "accuracy = 97.312\n",
      "\n",
      "epoch = 35/50\n",
      "loss = 2.351\n",
      "accuracy = 97.460\n",
      "\n",
      "epoch = 36/50\n",
      "loss = 2.351\n",
      "accuracy = 97.449\n",
      "\n",
      "epoch = 37/50\n",
      "loss = 2.352\n",
      "accuracy = 97.460\n",
      "\n",
      "epoch = 38/50\n",
      "loss = 2.350\n",
      "accuracy = 97.503\n",
      "\n",
      "epoch = 39/50\n",
      "loss = 2.349\n",
      "accuracy = 97.441\n",
      "\n",
      "epoch = 40/50\n",
      "loss = 2.349\n",
      "accuracy = 97.508\n",
      "\n",
      "epoch = 41/50\n",
      "loss = 2.349\n",
      "accuracy = 97.557\n",
      "\n",
      "epoch = 42/50\n",
      "loss = 2.352\n",
      "accuracy = 97.567\n",
      "\n",
      "epoch = 43/50\n",
      "loss = 2.349\n",
      "accuracy = 97.557\n",
      "\n",
      "epoch = 44/50\n",
      "loss = 2.347\n",
      "accuracy = 97.613\n",
      "\n",
      "epoch = 45/50\n",
      "loss = 2.348\n",
      "accuracy = 97.584\n",
      "\n",
      "epoch = 46/50\n",
      "loss = 2.351\n",
      "accuracy = 97.551\n",
      "\n",
      "epoch = 47/50\n",
      "loss = 2.349\n",
      "accuracy = 97.669\n",
      "\n",
      "epoch = 48/50\n",
      "loss = 2.350\n",
      "accuracy = 97.707\n",
      "\n",
      "epoch = 49/50\n",
      "loss = 2.347\n",
      "accuracy = 97.653\n",
      "\n",
      "total 210.753 seconds on cuda.\n"
     ]
    }
   ],
   "source": [
    "epochs = 50\n",
    "learning_rate = 0.0005\n",
    "batch_size = 10000\n",
    "model = Model(4*4*16, 120, 80).to(device)\n",
    "\n",
    "train_dataset = CharacterDataset(X_train, y_train)\n",
    "train_loader = DataLoader(train_dataset, shuffle=True, batch_size= 10000)\n",
    "\n",
    "test_dataset = CharacterDataset(X_test, y_test)\n",
    "test_loader = DataLoader(test_dataset, batch_size= 10000)\n",
    "\n",
    "criterion = nn.CrossEntropyLoss()\n",
    "optimizer = torch.optim.Adam(model.parameters(), lr=learning_rate)\n",
    "start_time = time.time()\n",
    "for i in range(epochs):\n",
    "    print(f'epoch = {i}/{epochs}')\n",
    "    for j, (X_batch, y_batch) in enumerate(train_loader):\n",
    "        pred = model(X_batch, train=True)\n",
    "        loss = criterion(pred, y_batch)\n",
    "        optimizer.zero_grad()\n",
    "        loss.backward()\n",
    "        optimizer.step()\n",
    "    \n",
    "    with torch.no_grad():\n",
    "        correct = 0 \n",
    "        for j, (X_batch, y_batch) in enumerate(test_loader):\n",
    "            pred_test = model(X_batch)\n",
    "            pred_test = torch.argmax(pred_test, dim=1)\n",
    "            correct += (pred_test==y_batch).sum().item()\n",
    "        \n",
    "        acc = 100 * (correct/len(test_dataset))\n",
    "        print(f'loss = {loss.item():.3f}')\n",
    "        print(f'accuracy = {acc:.3f}', end=2*'\\n')\n",
    "    \n",
    "end_time = time.time()\n",
    "print(f'total {end_time-start_time:.3f} seconds on {device}.')"
   ]
  },
  {
   "cell_type": "code",
   "execution_count": null,
   "id": "5d37d298-fbbe-471b-872f-b1dd051a8ed0",
   "metadata": {},
   "outputs": [],
   "source": []
  }
 ],
 "metadata": {
  "kernelspec": {
   "display_name": "Python 3 (ipykernel)",
   "language": "python",
   "name": "python3"
  },
  "language_info": {
   "codemirror_mode": {
    "name": "ipython",
    "version": 3
   },
   "file_extension": ".py",
   "mimetype": "text/x-python",
   "name": "python",
   "nbconvert_exporter": "python",
   "pygments_lexer": "ipython3",
   "version": "3.11.5"
  }
 },
 "nbformat": 4,
 "nbformat_minor": 5
}
